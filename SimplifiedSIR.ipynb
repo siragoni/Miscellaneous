{
 "cells": [
  {
   "cell_type": "markdown",
   "metadata": {},
   "source": [
    "# Simplified SIR model with vaccinations\n",
    "\n",
    "The standard SIR model reads:\n",
    "\n",
    "$\\frac{dS}{dt} = - \\beta I \\frac{S}{N}$\n",
    "\n",
    "$\\frac{dI}{dt} =   \\beta I \\frac{S}{N} - \\gamma I$\n",
    "\n",
    "$\\frac{dR}{dt} =  \\gamma I$\n",
    "\n",
    "I use the following approximation:\n",
    "\n",
    "$\\frac{S}{N} \\sim 1$\n",
    "\n",
    "Hence, I can use only the second and the third equation.\n",
    "In addition, one can introduce vaccinations too.\n",
    "Another approximation is that the vaccination rate is constant in time, which is not hard to believe, and mostly true, looking at the available data.\n",
    "With this, I write:\n",
    "\n",
    "$\\frac{dI}{dt} =   \\beta I \\frac{S}{N} - \\gamma I - \\alpha$\n",
    "\n",
    "$\\frac{dR}{dt} =  \\gamma I$\n",
    "\n",
    "where $\\alpha$ comes from data.\n",
    "There are two scenarios here:\n",
    "\n",
    "$\\alpha_{IT} \\sim 0.2$\n",
    "\n",
    "$\\alpha_{UK} \\sim 0.6$"
   ]
  },
  {
   "cell_type": "code",
   "execution_count": 54,
   "metadata": {},
   "outputs": [],
   "source": [
    "import numpy as np\n",
    "import scipy.optimize as scopt\n",
    "import scipy.integrate as scint\n",
    "import scipy.optimize as scopt\n",
    "\n",
    "def pend(y, t, b, c):\n",
    "    theta, omega = y\n",
    "    dydt = [omega, -b*omega - c*np.sin(theta)]\n",
    "    return dydt\n",
    "\n",
    "\n",
    "def test_pend(y, t, b, c):\n",
    "    theta, omega = y\n",
    "    dydt = [omega, -b*omega - c*np.sin(theta)]\n",
    "    return dydt\n",
    "\n",
    "\n",
    "def SimplifiedSIR(y, t, beta, tau, gamma):\n",
    "    I, R = y\n",
    "    dydt = [ (beta*np.exp(-t/tau) - gamma)*I, gamma*I]\n",
    "    return dydt\n",
    "\n",
    "def SimplifiedSIR_2(y, t, beta, gamma):\n",
    "    I, R = y\n",
    "    dydt = [ (beta - gamma)*I, gamma*I]\n",
    "    return dydt"
   ]
  },
  {
   "cell_type": "markdown",
   "metadata": {},
   "source": [
    "Taking the constants from the following paper:\n",
    "https://arxiv.org/pdf/2005.08724.pdf"
   ]
  },
  {
   "cell_type": "code",
   "execution_count": 55,
   "metadata": {},
   "outputs": [],
   "source": [
    "beta_0  = 0.384\n",
    "tau_0   = 26.33\n",
    "gamma_0 = 0.048\n",
    "\n",
    "y_0 = [1.,1.]\n",
    "\n",
    "\n",
    "guess = [0.5, 30, 0.1]\n",
    "t     = np.linspace(0, 1, 11)\n",
    "t2    = np.linspace(0, 1, 14)\n",
    "\n",
    "sol   = scint.odeint(SimplifiedSIR, y_0, t, args=(beta_0, tau_0, gamma_0))\n",
    "\n",
    "# popt, pcov = scopt.curve_fit(test_pend, guess, t, sol)\n",
    "# popt, pcov = scopt.curve_fit(SimplifiedSIR, guess, t, sol)"
   ]
  },
  {
   "cell_type": "code",
   "execution_count": 56,
   "metadata": {},
   "outputs": [
    {
     "data": {
      "text/plain": [
       "array([[1.        , 1.        ],\n",
       "       [1.03409552, 1.00488143],\n",
       "       [1.06919821, 1.00992892],\n",
       "       [1.10533249, 1.01514738],\n",
       "       [1.14252319, 1.02054181],\n",
       "       [1.1807956 , 1.02611733],\n",
       "       [1.22017546, 1.03187922],\n",
       "       [1.26068891, 1.03783283],\n",
       "       [1.30236256, 1.04398369],\n",
       "       [1.34522346, 1.05033741],\n",
       "       [1.38929909, 1.05689978]])"
      ]
     },
     "execution_count": 56,
     "metadata": {},
     "output_type": "execute_result"
    }
   ],
   "source": [
    "sol"
   ]
  },
  {
   "cell_type": "code",
   "execution_count": 57,
   "metadata": {},
   "outputs": [],
   "source": [
    "# popt, pcov = scopt.curve_fit(SimplifiedSIR, guess, t, sol)\n",
    "\n",
    "\n",
    "def f(t, a0, a1, beta, tau, gamma): \n",
    "    y_00 = [a0, a1]\n",
    "    tspan = np.hstack([[0],np.hstack([t])])\n",
    "    return scint.odeint(SimplifiedSIR, y_00, tspan, args=(beta,tau,gamma))[1:,0]\n",
    "#     return scint.odeint(SimplifiedSIR, [a0,a1], tspan, args=(beta,tau,gamma))[1:,0]\n",
    "\n",
    "def f0(t, beta,tau,gamma): \n",
    "    tspan = np.hstack([[0],np.hstack([t])])\n",
    "    return scint.odeint(SimplifiedSIR, y_0, tspan, args=(beta,tau,gamma))[1:,0]\n",
    "\n",
    "\n",
    "guess2 = [1., 1., 0.5, 30, 0.1]\n",
    "\n",
    "popt, pcov = scopt.curve_fit(f, t, sol[:,0], p0=guess2)\n",
    "# popt, pcov = scopt.curve_fit(f0, t, sol[:,0], p0=guess)"
   ]
  },
  {
   "cell_type": "code",
   "execution_count": 58,
   "metadata": {},
   "outputs": [
    {
     "data": {
      "text/plain": [
       "array([ 1.00000083,  1.33371254,  0.48405754, 33.32701271,  0.1480694 ])"
      ]
     },
     "execution_count": 58,
     "metadata": {},
     "output_type": "execute_result"
    }
   ],
   "source": [
    "popt"
   ]
  },
  {
   "cell_type": "markdown",
   "metadata": {},
   "source": [
    "##### Loading the data\n",
    "\n",
    "Here I am writing by hand (sigh) the data I want to analyse..."
   ]
  },
  {
   "cell_type": "code",
   "execution_count": 59,
   "metadata": {},
   "outputs": [
    {
     "data": {
      "text/plain": [
       "array([[255.28,   4.71],\n",
       "       [264.7 ,   4.78],\n",
       "       [274.13,   4.68],\n",
       "       [282.37,   4.61],\n",
       "       [291.26,   4.58],\n",
       "       [301.75,   4.65],\n",
       "       [308.78,   4.73],\n",
       "       [317.1 ,   4.83],\n",
       "       [328.8 ,   4.89],\n",
       "       [336.03,   4.93],\n",
       "       [337.87,   5.1 ],\n",
       "       [344.16,   5.18],\n",
       "       [347.55,   5.14],\n",
       "       [354.17,   5.22]])"
      ]
     },
     "execution_count": 59,
     "metadata": {},
     "output_type": "execute_result"
    }
   ],
   "source": [
    "data_IT = np.array([[255.28,4.71], [264.70,4.78], [274.13,4.68], [282.37,4.61], [291.26,4.58], [301.75,4.65], [308.78,4.73],  #26 Feb\n",
    "                    [317.10,4.83], [328.80,4.89], [336.03,4.93], [337.87,5.10], [344.16,5.18], [347.55,5.14], [354.17,5.22] ]) # 5 March\n",
    "\n",
    "data_IT"
   ]
  },
  {
   "cell_type": "code",
   "execution_count": 60,
   "metadata": {},
   "outputs": [
    {
     "data": {
      "text/plain": [
       "array([ 2.62976154e+02, -1.02172672e+05, -1.58510009e+02, -1.25290121e+08,\n",
       "       -1.58831083e+02])"
      ]
     },
     "execution_count": 60,
     "metadata": {},
     "output_type": "execute_result"
    }
   ],
   "source": [
    "popt2, pcov2 = scopt.curve_fit(f, t2, data_IT[:,0], p0=guess2)\n",
    "popt2"
   ]
  },
  {
   "cell_type": "code",
   "execution_count": 61,
   "metadata": {},
   "outputs": [
    {
     "data": {
      "image/png": "[encoded data removed]",
      "text/plain": [
       "<Figure size 432x288 with 1 Axes>"
      ]
     },
     "metadata": {
      "needs_background": "light"
     },
     "output_type": "display_data"
    }
   ],
   "source": [
    "import matplotlib.pyplot as plt\n",
    "plt.plot(t2, data_IT[:, 0], 'o',  label='Cases(t)')\n",
    "# plt.plot(t2, data_IT[:, 1], 'o', label='Deaths(t)')\n",
    "plt.plot(t2, f(t2, *popt2), '-',  label='Fit')\n",
    "\n",
    "plt.legend(loc='best')\n",
    "plt.xlabel('t')\n",
    "plt.grid()\n",
    "plt.show()"
   ]
  },
  {
   "cell_type": "code",
   "execution_count": null,
   "metadata": {},
   "outputs": [],
   "source": []
  },
  {
   "cell_type": "code",
   "execution_count": null,
   "metadata": {},
   "outputs": [],
   "source": []
  }
 ],
 "metadata": {
  "kernelspec": {
   "display_name": "Python 3",
   "language": "python",
   "name": "python3"
  },
  "language_info": {
   "codemirror_mode": {
    "name": "ipython",
    "version": 3
   },
   "file_extension": ".py",
   "mimetype": "text/x-python",
   "name": "python",
   "nbconvert_exporter": "python",
   "pygments_lexer": "ipython3",
   "version": "3.7.4"
  }
 },
 "nbformat": 4,
 "nbformat_minor": 2
}
